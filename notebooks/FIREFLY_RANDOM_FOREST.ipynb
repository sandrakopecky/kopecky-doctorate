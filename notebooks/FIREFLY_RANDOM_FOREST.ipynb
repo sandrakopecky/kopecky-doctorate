{
 "cells": [
  {
   "cell_type": "code",
   "execution_count": 1,
   "metadata": {},
   "outputs": [],
   "source": [
    "import random\n",
    "import math\n",
    "import pandas as pd\n",
    "from sklearn.model_selection import LeaveOneOut\n",
    "from sklearn.model_selection import cross_val_score\n",
    "from sklearn import svm\n",
    "import numpy as np"
   ]
  },
  {
   "cell_type": "code",
   "execution_count": 2,
   "metadata": {},
   "outputs": [],
   "source": [
    "class FireflyAlgorithm():\n",
    "\n",
    "    def __init__(self, function):\n",
    "        #Initialize parameters of the firefly algorithm\n",
    "        self.D = 111  # Number of dimensions. This is equivalent to the number of features in the dataset\n",
    "        self.NP = 30  # This is the number of fireflies in the model\n",
    "        self.nFES = 1  # number of function evaluations (repeate number)\n",
    "        self.alpha = 1  # alpha parameter,(randomization parameter)\n",
    "        self.betamin = 1  # Brightness index\n",
    "        self.gamma = 1  # gamma parameter (light intensity coefficency)\n",
    "        # sort of fireflies according to fitness value\n",
    "        self.Index = [0] * self.NP\n",
    "        self.Fireflies = [[np.random.rand() for i in range(self.D)] for j in range(self.NP)]  # firefly agents,\n",
    "        self.Fireflies_tmp = [[np.random.rand() for i in range(self.D)] for j in range(\n",
    "            self.NP)]  # intermediate pop\n",
    "        self.Fitness = [0.0] * self.NP  # fitness values (Accuracy)\n",
    "        self.I = [0.0] * self.NP  # light intensity\n",
    "        self.nbest = [0.0] * self.NP  # the best solution found so far\n",
    "        self.LB = 0  # lower bound\n",
    "        self.UB = 1  # upper bound\n",
    "        self.fbest = None  # the best\n",
    "        self.evaluations = 0\n",
    "        self.Fun = function\n",
    "\n",
    "    def alpha_new(self, a):\n",
    "        delta = 1.0 - math.pow((math.pow(10.0, -4.0) / 0.9), 1.0 / float(a))\n",
    "        return (1 - delta) * self.alpha\n",
    "\n",
    "    def sort_ffa(self):  # implementation of bubble sort\n",
    "\n",
    "        for i in range(self.NP):\n",
    "            self.Index[i] = i\n",
    "\n",
    "        for i in range(0, (self.NP - 1)):\n",
    "            j = i + 1\n",
    "            for j in range(j, self.NP):\n",
    "                if (self.I[i] > self.I[j]):\n",
    "                    z = self.I[i]  # exchange attractiveness\n",
    "                    self.I[i] = self.I[j]\n",
    "                    self.I[j] = z\n",
    "                    z = self.Fitness[i]  # exchange fitness\n",
    "                    self.Fitness[i] = self.Fitness[j]\n",
    "                    self.Fitness[j] = z\n",
    "                    z = self.Index[i]  # exchange indexes\n",
    "                    self.Index[i] = self.Index[j]\n",
    "                    self.Index[j] = z\n",
    "\n",
    "\n",
    "    def replace_ffa(self):  # replace the old population according to the new Index values\n",
    "        # copy original population to a temporary area\n",
    "        for i in range(self.NP):\n",
    "            for j in range(self.D):\n",
    "                self.Fireflies_tmp[i][j] = self.Fireflies[i][j]\n",
    "\n",
    "        # generational selection in the sense of an EA\n",
    "        for i in range(self.NP):\n",
    "            for j in range(self.D):\n",
    "                self.Fireflies[i][j] = self.Fireflies_tmp[self.Index[i]][j]\n",
    "\n",
    "    def FindLimits(self, k):\n",
    "        for i in range(self.D):\n",
    "            if self.Fireflies[k][i] < self.LB:\n",
    "                self.Fireflies[k][i] = self.LB\n",
    "            if self.Fireflies[k][i] > self.UB:\n",
    "                self.Fireflies[k][i] = self.UB\n",
    "\n",
    "    def move_ffa(self):\n",
    "        for i in range(self.NP):\n",
    "            scale = abs(self.UB - self.LB)\n",
    "            for j in range(self.NP):\n",
    "                r = 0.0\n",
    "                for k in range(self.D):\n",
    "                    r += (self.Fireflies[i][k] - self.Fireflies[j][k]) * \\\n",
    "                        (self.Fireflies[i][k] - self.Fireflies[j][k])\n",
    "                r = math.sqrt(r)\n",
    "                if self.I[i] > self.I[j]:  # brighter and more attractive\n",
    "                    beta0 = 1.0\n",
    "                    beta = (beta0 - self.betamin) * math.exp(-self.gamma * math.pow(r, 2.0)) + self.betamin\n",
    "                    for k in range(self.D):\n",
    "                        r = random.uniform(0, 1)\n",
    "                        tmpf = self.alpha * (r - 0.5) * scale\n",
    "                        self.Fireflies[i][k] = self.Fireflies[i][\n",
    "                            k] * (1.0 - beta) + self.Fireflies_tmp[j][k] * beta + tmpf\n",
    "            self.FindLimits(i)\n",
    "\n",
    "    def Run(self):\n",
    "        while self.evaluations < self.nFES:\n",
    "\n",
    "            # optional reducing of alpha\n",
    "            #self.alpha = self.alpha_new(self.nFES/self.NP)\n",
    "            self.evaluations = self.evaluations + 1\n",
    "            # evaluate new solutions\n",
    "            for i in range(self.NP):\n",
    "                self.Fitness[i] = self.Fun(self.Fireflies[i])\n",
    "\n",
    "                self.I[i] = self.Fitness[i]\n",
    "\n",
    "\n",
    "            # ranking fireflies by their light intensit\n",
    "            self.sort_ffa()\n",
    "            # replace old population\n",
    "            self.replace_ffa()\n",
    "            # move all fireflies to the better locations\n",
    "            self.move_ffa()\n",
    "\n",
    "        bestFirefly = self.Fireflies[self.NP - 1]\n",
    "\n",
    "        return bestFirefly"
   ]
  },
  {
   "cell_type": "code",
   "execution_count": 3,
   "metadata": {},
   "outputs": [
    {
     "data": {
      "text/html": [
       "<div>\n",
       "<style scoped>\n",
       "    .dataframe tbody tr th:only-of-type {\n",
       "        vertical-align: middle;\n",
       "    }\n",
       "\n",
       "    .dataframe tbody tr th {\n",
       "        vertical-align: top;\n",
       "    }\n",
       "\n",
       "    .dataframe thead th {\n",
       "        text-align: right;\n",
       "    }\n",
       "</style>\n",
       "<table border=\"1\" class=\"dataframe\">\n",
       "  <thead>\n",
       "    <tr style=\"text-align: right;\">\n",
       "      <th></th>\n",
       "      <th>qty_dot_url</th>\n",
       "      <th>qty_hyphen_url</th>\n",
       "      <th>qty_underline_url</th>\n",
       "      <th>qty_slash_url</th>\n",
       "      <th>qty_questionmark_url</th>\n",
       "      <th>qty_equal_url</th>\n",
       "      <th>qty_at_url</th>\n",
       "      <th>qty_and_url</th>\n",
       "      <th>qty_exclamation_url</th>\n",
       "      <th>qty_space_url</th>\n",
       "      <th>...</th>\n",
       "      <th>qty_ip_resolved</th>\n",
       "      <th>qty_nameservers</th>\n",
       "      <th>qty_mx_servers</th>\n",
       "      <th>ttl_hostname</th>\n",
       "      <th>tls_ssl_certificate</th>\n",
       "      <th>qty_redirects</th>\n",
       "      <th>url_google_index</th>\n",
       "      <th>domain_google_index</th>\n",
       "      <th>url_shortened</th>\n",
       "      <th>phishing</th>\n",
       "    </tr>\n",
       "  </thead>\n",
       "  <tbody>\n",
       "    <tr>\n",
       "      <th>0</th>\n",
       "      <td>3</td>\n",
       "      <td>0</td>\n",
       "      <td>0</td>\n",
       "      <td>1</td>\n",
       "      <td>0</td>\n",
       "      <td>0</td>\n",
       "      <td>0</td>\n",
       "      <td>0</td>\n",
       "      <td>0</td>\n",
       "      <td>0</td>\n",
       "      <td>...</td>\n",
       "      <td>1</td>\n",
       "      <td>2</td>\n",
       "      <td>0</td>\n",
       "      <td>892</td>\n",
       "      <td>0</td>\n",
       "      <td>0</td>\n",
       "      <td>0</td>\n",
       "      <td>0</td>\n",
       "      <td>0</td>\n",
       "      <td>1</td>\n",
       "    </tr>\n",
       "    <tr>\n",
       "      <th>1</th>\n",
       "      <td>5</td>\n",
       "      <td>0</td>\n",
       "      <td>1</td>\n",
       "      <td>3</td>\n",
       "      <td>0</td>\n",
       "      <td>3</td>\n",
       "      <td>0</td>\n",
       "      <td>2</td>\n",
       "      <td>0</td>\n",
       "      <td>0</td>\n",
       "      <td>...</td>\n",
       "      <td>1</td>\n",
       "      <td>2</td>\n",
       "      <td>1</td>\n",
       "      <td>9540</td>\n",
       "      <td>1</td>\n",
       "      <td>0</td>\n",
       "      <td>0</td>\n",
       "      <td>0</td>\n",
       "      <td>0</td>\n",
       "      <td>1</td>\n",
       "    </tr>\n",
       "  </tbody>\n",
       "</table>\n",
       "<p>2 rows × 112 columns</p>\n",
       "</div>"
      ],
      "text/plain": [
       "   qty_dot_url  qty_hyphen_url  qty_underline_url  qty_slash_url  \\\n",
       "0            3               0                  0              1   \n",
       "1            5               0                  1              3   \n",
       "\n",
       "   qty_questionmark_url  qty_equal_url  qty_at_url  qty_and_url  \\\n",
       "0                     0              0           0            0   \n",
       "1                     0              3           0            2   \n",
       "\n",
       "   qty_exclamation_url  qty_space_url  ...  qty_ip_resolved  qty_nameservers  \\\n",
       "0                    0              0  ...                1                2   \n",
       "1                    0              0  ...                1                2   \n",
       "\n",
       "   qty_mx_servers  ttl_hostname  tls_ssl_certificate  qty_redirects  \\\n",
       "0               0           892                    0              0   \n",
       "1               1          9540                    1              0   \n",
       "\n",
       "   url_google_index  domain_google_index  url_shortened  phishing  \n",
       "0                 0                    0              0         1  \n",
       "1                 0                    0              0         1  \n",
       "\n",
       "[2 rows x 112 columns]"
      ]
     },
     "execution_count": 3,
     "metadata": {},
     "output_type": "execute_result"
    }
   ],
   "source": [
    "Phishing = pd.read_csv (\"C:/Users/hp/Desktop/NEWDATA.csv\")\n",
    "Phishing.head(2)"
   ]
  },
  {
   "cell_type": "code",
   "execution_count": 46,
   "metadata": {},
   "outputs": [],
   "source": [
    "Phishing.to_excel(r'C:\\Users\\hp\\Desktop\\Firefly_Data.xlsx', sheet_name='FirelyData', index = True)"
   ]
  },
  {
   "cell_type": "code",
   "execution_count": 4,
   "metadata": {},
   "outputs": [
    {
     "data": {
      "text/plain": [
       "array([[3., 0., 0., ..., 0., 0., 0.],\n",
       "       [5., 0., 1., ..., 0., 0., 0.],\n",
       "       [2., 0., 0., ..., 0., 0., 0.],\n",
       "       ...,\n",
       "       [1., 1., 0., ..., 0., 0., 0.],\n",
       "       [2., 0., 1., ..., 0., 0., 0.],\n",
       "       [4., 1., 0., ..., 0., 0., 0.]])"
      ]
     },
     "execution_count": 4,
     "metadata": {},
     "output_type": "execute_result"
    }
   ],
   "source": [
    "\n",
    "y = Phishing['phishing'].values\n",
    "X = Phishing.drop('phishing', axis=1).values\n",
    "X"
   ]
  },
  {
   "cell_type": "code",
   "execution_count": 6,
   "metadata": {},
   "outputs": [],
   "source": [
    "from sklearn.ensemble import RandomForestClassifier"
   ]
  },
  {
   "cell_type": "code",
   "execution_count": 10,
   "metadata": {},
   "outputs": [],
   "source": [
    "def evaluation(feature_possibilities):\n",
    "        feature_possibilities = np.round(feature_possibilities)\n",
    "\n",
    "        feature_possibilities = feature_possibilities > np.float32(0.7)\n",
    "\n",
    "        selectedX = X[:, feature_possibilities]\n",
    "        #Create a Gaussian Classifier\n",
    "        s=RandomForestClassifier(n_estimators=400)\n",
    "\n",
    "        loocv = LeaveOneOut()\n",
    "        evaluation = cross_val_score(s, selectedX, y,  cv=loocv)\n",
    "\n",
    "        return evaluation.mean()"
   ]
  },
  {
   "cell_type": "code",
   "execution_count": 11,
   "metadata": {},
   "outputs": [],
   "source": [
    "Algorithm = FireflyAlgorithm(evaluation)"
   ]
  },
  {
   "cell_type": "code",
   "execution_count": 13,
   "metadata": {},
   "outputs": [],
   "source": [
    "Best = Algorithm.Run()"
   ]
  },
  {
   "cell_type": "code",
   "execution_count": 14,
   "metadata": {},
   "outputs": [
    {
     "name": "stdout",
     "output_type": "stream",
     "text": [
      "[False False False  True  True  True False  True False  True False  True\n",
      "  True  True False  True False  True False False False False False False\n",
      " False  True False False False  True  True False  True False  True  True\n",
      " False  True  True  True False  True  True False False False  True  True\n",
      "  True  True False False  True False  True  True  True  True  True  True\n",
      "  True  True  True False  True False False  True False False  True False\n",
      "  True False  True False  True False False  True False  True  True False\n",
      " False False False  True False  True False  True  True False  True False\n",
      " False  True False False False  True  True  True  True  True  True False\n",
      " False False False]\n"
     ]
    }
   ],
   "source": [
    "a = np.round(Best)\n",
    "\n",
    "Feature_Filter = a > np.float32(0.7)\n",
    "\n",
    "print(Feature_Filter)"
   ]
  },
  {
   "cell_type": "code",
   "execution_count": 15,
   "metadata": {},
   "outputs": [
    {
     "data": {
      "text/html": [
       "<div>\n",
       "<style scoped>\n",
       "    .dataframe tbody tr th:only-of-type {\n",
       "        vertical-align: middle;\n",
       "    }\n",
       "\n",
       "    .dataframe tbody tr th {\n",
       "        vertical-align: top;\n",
       "    }\n",
       "\n",
       "    .dataframe thead th {\n",
       "        text-align: right;\n",
       "    }\n",
       "</style>\n",
       "<table border=\"1\" class=\"dataframe\">\n",
       "  <thead>\n",
       "    <tr style=\"text-align: right;\">\n",
       "      <th></th>\n",
       "      <th>0</th>\n",
       "      <th>1</th>\n",
       "      <th>2</th>\n",
       "      <th>3</th>\n",
       "      <th>4</th>\n",
       "      <th>5</th>\n",
       "      <th>6</th>\n",
       "      <th>7</th>\n",
       "      <th>8</th>\n",
       "      <th>9</th>\n",
       "      <th>...</th>\n",
       "      <th>101</th>\n",
       "      <th>102</th>\n",
       "      <th>103</th>\n",
       "      <th>104</th>\n",
       "      <th>105</th>\n",
       "      <th>106</th>\n",
       "      <th>107</th>\n",
       "      <th>108</th>\n",
       "      <th>109</th>\n",
       "      <th>110</th>\n",
       "    </tr>\n",
       "  </thead>\n",
       "  <tbody>\n",
       "    <tr>\n",
       "      <th>0</th>\n",
       "      <td>False</td>\n",
       "      <td>False</td>\n",
       "      <td>False</td>\n",
       "      <td>True</td>\n",
       "      <td>True</td>\n",
       "      <td>True</td>\n",
       "      <td>False</td>\n",
       "      <td>True</td>\n",
       "      <td>False</td>\n",
       "      <td>True</td>\n",
       "      <td>...</td>\n",
       "      <td>True</td>\n",
       "      <td>True</td>\n",
       "      <td>True</td>\n",
       "      <td>True</td>\n",
       "      <td>True</td>\n",
       "      <td>True</td>\n",
       "      <td>False</td>\n",
       "      <td>False</td>\n",
       "      <td>False</td>\n",
       "      <td>False</td>\n",
       "    </tr>\n",
       "  </tbody>\n",
       "</table>\n",
       "<p>1 rows × 111 columns</p>\n",
       "</div>"
      ],
      "text/plain": [
       "     0      1      2     3     4     5      6     7      8     9    ...   101  \\\n",
       "0  False  False  False  True  True  True  False  True  False  True  ...  True   \n",
       "\n",
       "    102   103   104   105   106    107    108    109    110  \n",
       "0  True  True  True  True  True  False  False  False  False  \n",
       "\n",
       "[1 rows x 111 columns]"
      ]
     },
     "execution_count": 15,
     "metadata": {},
     "output_type": "execute_result"
    }
   ],
   "source": [
    "#The actual feature selection where best features are given the label 'TRUE'\n",
    "#Not best features are given the label 'FALSE'\n",
    "#Best features have an objective score greater than 0.7\n",
    "Feature_Filter_Appended_to_main_Data = pd.DataFrame(Feature_Filter)\n",
    "New_Features = Feature_Filter_Appended_to_main_Data.T\n",
    "New_Features"
   ]
  },
  {
   "cell_type": "code",
   "execution_count": 16,
   "metadata": {},
   "outputs": [],
   "source": [
    "X_new = pd.DataFrame(X)\n",
    "New_Features.to_excel(r'C:\\Users\\hp\\Desktop\\Features_Random.xlsx', sheet_name='Features', index = True)"
   ]
  },
  {
   "cell_type": "code",
   "execution_count": 17,
   "metadata": {},
   "outputs": [
    {
     "name": "stdout",
     "output_type": "stream",
     "text": [
      "[0.4197495726519004, 0.27964248805375524, 0.03741167434839965, 0.6056542513605243, 0.8210302466364459, 0.5203203346697883, 0.16746168213515822, 0.9467451760747804, 0.4948042233984442, 0.5994892607051847, 0.40926450257451064, 0.8453471882154757, 0.5306975548564796, 0.9019937789359368, 0.03422445566651866, 0.5168367877578466, 0.14061874921081596, 0.5337651572529444, 0.4404804136253062, 0.20590871185125492, 0.3337833272983397, 0.03315502980758345, 0.47804907997187374, 0.03177829191688564, 0.010834214971579548, 0.5724388935857518, 0.1569563983224228, 0.06687357085672452, 0.4397603787601796, 0.7703134387478203, 0.7348603011682175, 0.15668504305011677, 0.9701752512696992, 0.33346058091832675, 0.9895556232169289, 0.6280183350295353, 0.005408226030754082, 0.7344566269238775, 0.9279955444120443, 0.9678302649220674, 0.4849734460569153, 0.8083004840275507, 0.8128876327674136, 0.10215670743856964, 0.2220585645561245, 0.21299619769973255, 0.9186704730418396, 0.844830037963625, 0.9937230699469756, 0.6498870172726431, 0.4719259032872728, 0.11705885945663907, 0.56928433073312, 0.16498948478418862, 0.534896552299293, 0.6397354557948901, 0.7846124379111401, 0.730367901134369, 0.6300244589264014, 0.6804942429562185, 0.8644649645067503, 0.8352713965238396, 0.9358828906919721, 0.09674569145634637, 0.6473872968752081, 0.3077465680544439, 0.29651198491819797, 0.8270698135910675, 0.16552172848470825, 0.1205619296354431, 0.8405302562550402, 0.0959139081455912, 0.5647416358611287, 0.07681638935747981, 0.750333931468677, 0.24885450670174047, 0.6243378371054453, 0.27155547513452094, 0.017244916420084633, 0.8568318010400668, 0.14717442794286795, 0.7220341524181852, 0.7205453808443346, 0.23015880016623613, 0.39395289966678926, 0.04023993796460601, 0.2812203618008915, 0.6472910677539817, 0.1983856718745599, 0.706827904777801, 0.081317731340381, 0.6952648264488251, 0.846463248609443, 0.1814075703003869, 0.99794145063106, 0.1286635101571365, 0.46035095887648847, 0.6342695680353693, 0.17255485583314523, 0.1983905185925553, 0.3396262987881469, 0.9619117065519106, 0.5546290613504635, 0.8668090094801117, 0.5512462641369674, 0.8570544706042162, 0.7467389102699857, 0.20949419082227017, 0.05129640264836921, 0.26348772569038137, 0.2529264744282794]\n"
     ]
    }
   ],
   "source": [
    "print(Best)"
   ]
  },
  {
   "cell_type": "code",
   "execution_count": 18,
   "metadata": {},
   "outputs": [
    {
     "data": {
      "text/html": [
       "<div>\n",
       "<style scoped>\n",
       "    .dataframe tbody tr th:only-of-type {\n",
       "        vertical-align: middle;\n",
       "    }\n",
       "\n",
       "    .dataframe tbody tr th {\n",
       "        vertical-align: top;\n",
       "    }\n",
       "\n",
       "    .dataframe thead th {\n",
       "        text-align: right;\n",
       "    }\n",
       "</style>\n",
       "<table border=\"1\" class=\"dataframe\">\n",
       "  <thead>\n",
       "    <tr style=\"text-align: right;\">\n",
       "      <th></th>\n",
       "      <th>0</th>\n",
       "    </tr>\n",
       "  </thead>\n",
       "  <tbody>\n",
       "    <tr>\n",
       "      <th>0</th>\n",
       "      <td>0.419750</td>\n",
       "    </tr>\n",
       "    <tr>\n",
       "      <th>1</th>\n",
       "      <td>0.279642</td>\n",
       "    </tr>\n",
       "  </tbody>\n",
       "</table>\n",
       "</div>"
      ],
      "text/plain": [
       "          0\n",
       "0  0.419750\n",
       "1  0.279642"
      ]
     },
     "execution_count": 18,
     "metadata": {},
     "output_type": "execute_result"
    }
   ],
   "source": [
    "New_Best = pd.DataFrame(Best)\n",
    "New_Best.head(2)"
   ]
  },
  {
   "cell_type": "code",
   "execution_count": 19,
   "metadata": {},
   "outputs": [
    {
     "name": "stdout",
     "output_type": "stream",
     "text": [
      "[[ 0 55]\n",
      " [ 1 56]]\n"
     ]
    }
   ],
   "source": [
    "true_number = np.array(np.unique(Feature_Filter, return_counts=True)).T\n",
    "bestX = X[:, Feature_Filter]\n",
    "print(true_number)"
   ]
  },
  {
   "cell_type": "code",
   "execution_count": 20,
   "metadata": {},
   "outputs": [
    {
     "data": {
      "text/html": [
       "<div>\n",
       "<style scoped>\n",
       "    .dataframe tbody tr th:only-of-type {\n",
       "        vertical-align: middle;\n",
       "    }\n",
       "\n",
       "    .dataframe tbody tr th {\n",
       "        vertical-align: top;\n",
       "    }\n",
       "\n",
       "    .dataframe thead th {\n",
       "        text-align: right;\n",
       "    }\n",
       "</style>\n",
       "<table border=\"1\" class=\"dataframe\">\n",
       "  <thead>\n",
       "    <tr style=\"text-align: right;\">\n",
       "      <th></th>\n",
       "      <th>qty_slash_url</th>\n",
       "      <th>qty_questionmark_url</th>\n",
       "      <th>qty_equal_url</th>\n",
       "      <th>qty_and_url</th>\n",
       "      <th>qty_space_url</th>\n",
       "      <th>qty_comma_url</th>\n",
       "      <th>qty_plus_url</th>\n",
       "      <th>qty_asterisk_url</th>\n",
       "      <th>qty_dollar_url</th>\n",
       "      <th>qty_tld_url</th>\n",
       "      <th>...</th>\n",
       "      <th>qty_percent_params</th>\n",
       "      <th>tld_present_params</th>\n",
       "      <th>time_response</th>\n",
       "      <th>time_domain_expiration</th>\n",
       "      <th>qty_ip_resolved</th>\n",
       "      <th>qty_nameservers</th>\n",
       "      <th>qty_mx_servers</th>\n",
       "      <th>ttl_hostname</th>\n",
       "      <th>tls_ssl_certificate</th>\n",
       "      <th>phishing</th>\n",
       "    </tr>\n",
       "  </thead>\n",
       "  <tbody>\n",
       "    <tr>\n",
       "      <th>0</th>\n",
       "      <td>1</td>\n",
       "      <td>0</td>\n",
       "      <td>0</td>\n",
       "      <td>0</td>\n",
       "      <td>0</td>\n",
       "      <td>0</td>\n",
       "      <td>0</td>\n",
       "      <td>0</td>\n",
       "      <td>0</td>\n",
       "      <td>1</td>\n",
       "      <td>...</td>\n",
       "      <td>-1</td>\n",
       "      <td>-1</td>\n",
       "      <td>0.207316</td>\n",
       "      <td>-1</td>\n",
       "      <td>1</td>\n",
       "      <td>2</td>\n",
       "      <td>0</td>\n",
       "      <td>892</td>\n",
       "      <td>0</td>\n",
       "      <td>1</td>\n",
       "    </tr>\n",
       "    <tr>\n",
       "      <th>1</th>\n",
       "      <td>3</td>\n",
       "      <td>0</td>\n",
       "      <td>3</td>\n",
       "      <td>2</td>\n",
       "      <td>0</td>\n",
       "      <td>0</td>\n",
       "      <td>0</td>\n",
       "      <td>0</td>\n",
       "      <td>0</td>\n",
       "      <td>3</td>\n",
       "      <td>...</td>\n",
       "      <td>0</td>\n",
       "      <td>0</td>\n",
       "      <td>0.499566</td>\n",
       "      <td>150</td>\n",
       "      <td>1</td>\n",
       "      <td>2</td>\n",
       "      <td>1</td>\n",
       "      <td>9540</td>\n",
       "      <td>1</td>\n",
       "      <td>1</td>\n",
       "    </tr>\n",
       "    <tr>\n",
       "      <th>2</th>\n",
       "      <td>1</td>\n",
       "      <td>0</td>\n",
       "      <td>0</td>\n",
       "      <td>0</td>\n",
       "      <td>0</td>\n",
       "      <td>0</td>\n",
       "      <td>0</td>\n",
       "      <td>0</td>\n",
       "      <td>0</td>\n",
       "      <td>1</td>\n",
       "      <td>...</td>\n",
       "      <td>-1</td>\n",
       "      <td>-1</td>\n",
       "      <td>0.935901</td>\n",
       "      <td>-1</td>\n",
       "      <td>1</td>\n",
       "      <td>2</td>\n",
       "      <td>3</td>\n",
       "      <td>589</td>\n",
       "      <td>1</td>\n",
       "      <td>0</td>\n",
       "    </tr>\n",
       "  </tbody>\n",
       "</table>\n",
       "<p>3 rows × 57 columns</p>\n",
       "</div>"
      ],
      "text/plain": [
       "   qty_slash_url  qty_questionmark_url  qty_equal_url  qty_and_url  \\\n",
       "0              1                     0              0            0   \n",
       "1              3                     0              3            2   \n",
       "2              1                     0              0            0   \n",
       "\n",
       "   qty_space_url  qty_comma_url  qty_plus_url  qty_asterisk_url  \\\n",
       "0              0              0             0                 0   \n",
       "1              0              0             0                 0   \n",
       "2              0              0             0                 0   \n",
       "\n",
       "   qty_dollar_url  qty_tld_url  ...  qty_percent_params  tld_present_params  \\\n",
       "0               0            1  ...                  -1                  -1   \n",
       "1               0            3  ...                   0                   0   \n",
       "2               0            1  ...                  -1                  -1   \n",
       "\n",
       "   time_response  time_domain_expiration  qty_ip_resolved  qty_nameservers  \\\n",
       "0       0.207316                      -1                1                2   \n",
       "1       0.499566                     150                1                2   \n",
       "2       0.935901                      -1                1                2   \n",
       "\n",
       "   qty_mx_servers  ttl_hostname  tls_ssl_certificate  phishing  \n",
       "0               0           892                    0         1  \n",
       "1               1          9540                    1         1  \n",
       "2               3           589                    1         0  \n",
       "\n",
       "[3 rows x 57 columns]"
      ]
     },
     "execution_count": 20,
     "metadata": {},
     "output_type": "execute_result"
    }
   ],
   "source": [
    "#Elimination of FALSE features was done manually in Excel\n",
    "#The new dataset with only best features is loaded in this cell\n",
    "#As per the true number above, the number of best features with scores above 70% was 59\n",
    "Filtered_Dataset = pd.read_csv (\"C:/Users/hp/Desktop/SELECTED_RANDOM_FOREST.csv\")\n",
    "Filtered_Dataset.head(3)"
   ]
  },
  {
   "cell_type": "code",
   "execution_count": 21,
   "metadata": {},
   "outputs": [],
   "source": [
    "y_data = Filtered_Dataset['phishing']\n",
    "X_data = Filtered_Dataset.drop('phishing', axis=1)"
   ]
  },
  {
   "cell_type": "code",
   "execution_count": 22,
   "metadata": {},
   "outputs": [
    {
     "data": {
      "text/plain": [
       "0    1\n",
       "1    1\n",
       "Name: phishing, dtype: int64"
      ]
     },
     "execution_count": 22,
     "metadata": {},
     "output_type": "execute_result"
    }
   ],
   "source": [
    "y_data.head(2)"
   ]
  },
  {
   "cell_type": "code",
   "execution_count": 23,
   "metadata": {},
   "outputs": [],
   "source": [
    "##We will use two machine learning algorithms to perform classification\n",
    "#The first one is the random forest classifier\n",
    "from sklearn.model_selection import train_test_split \n",
    "from sklearn.metrics import classification_report\n",
    "from sklearn import metrics\n",
    "from sklearn.metrics import confusion_matrix\n"
   ]
  },
  {
   "cell_type": "code",
   "execution_count": 24,
   "metadata": {},
   "outputs": [],
   "source": [
    "# Split into training and test set \n",
    "##In this cell, we use the random forest classifier to predict whether a link is phishing or not\n",
    "X_train, X_test, y_train, y_test = train_test_split( \n",
    "             X_data, y_data, test_size = 0.4,random_state=5)"
   ]
  },
  {
   "cell_type": "code",
   "execution_count": 25,
   "metadata": {},
   "outputs": [],
   "source": [
    "##In this cell, we use the random forest classifier to predict whether a link is phishing or not\n",
    "from sklearn.ensemble import RandomForestClassifier\n",
    "\n",
    "#Create a Gaussian Classifier\n",
    "clf=RandomForestClassifier(n_estimators=400)\n",
    "\n",
    "#Train the model using the training sets y_pred=clf.predict(X_test)\n",
    "clf.fit(X_train,y_train)\n",
    "\n",
    "y_pred=clf.predict(X_test)"
   ]
  },
  {
   "cell_type": "code",
   "execution_count": 26,
   "metadata": {},
   "outputs": [
    {
     "name": "stdout",
     "output_type": "stream",
     "text": [
      "Accuracy: 0.9355828220858896\n"
     ]
    }
   ],
   "source": [
    "#Import scikit-learn metrics module for accuracy calculation\n",
    "from sklearn import metrics\n",
    "# Model Accuracy, how often is the classifier correct?\n",
    "print(\"Accuracy:\",metrics.accuracy_score(y_test, y_pred))"
   ]
  },
  {
   "cell_type": "code",
   "execution_count": 27,
   "metadata": {},
   "outputs": [
    {
     "name": "stdout",
     "output_type": "stream",
     "text": [
      "[[405  33]\n",
      " [  9 205]]\n",
      "              precision    recall  f1-score   support\n",
      "\n",
      "           0       0.98      0.92      0.95       438\n",
      "           1       0.86      0.96      0.91       214\n",
      "\n",
      "    accuracy                           0.94       652\n",
      "   macro avg       0.92      0.94      0.93       652\n",
      "weighted avg       0.94      0.94      0.94       652\n",
      "\n"
     ]
    }
   ],
   "source": [
    "from sklearn.metrics import classification_report, confusion_matrix\n",
    "print(confusion_matrix(y_test, y_pred))\n",
    "print(classification_report(y_test, y_pred))"
   ]
  },
  {
   "cell_type": "code",
   "execution_count": 28,
   "metadata": {},
   "outputs": [
    {
     "data": {
      "image/png": "[encoded data removed]",
      "text/plain": [
       "<Figure size 432x288 with 1 Axes>"
      ]
     },
     "metadata": {
      "needs_background": "light"
     },
     "output_type": "display_data"
    }
   ],
   "source": [
    "import matplotlib.pyplot as plt\n",
    "y_pred_proba = clf.predict_proba(X_test)[::,1]\n",
    "fpr, tpr, _ = metrics.roc_curve(y_test,  y_pred_proba)\n",
    "auc = metrics.roc_auc_score(y_test, y_pred_proba)\n",
    "plt.plot(fpr,tpr,label=\"data 1, auc=\"+str(auc))\n",
    "plt.legend(loc=4)\n",
    "plt.show()"
   ]
  },
  {
   "cell_type": "code",
   "execution_count": null,
   "metadata": {},
   "outputs": [],
   "source": []
  }
 ],
 "metadata": {
  "kernelspec": {
   "display_name": "Python 3",
   "language": "python",
   "name": "python3"
  },
  "language_info": {
   "codemirror_mode": {
    "name": "ipython",
    "version": 3
   },
   "file_extension": ".py",
   "mimetype": "text/x-python",
   "name": "python",
   "nbconvert_exporter": "python",
   "pygments_lexer": "ipython3",
   "version": "3.8.5"
  }
 },
 "nbformat": 4,
 "nbformat_minor": 4
}
